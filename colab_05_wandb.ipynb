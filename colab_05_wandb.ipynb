{
  "cells": [
    {
      "cell_type": "markdown",
      "metadata": {
        "id": "B0cP5Z789_rr"
      },
      "source": [
        "##  Practical Implementation - Convolutional Neural Network (CNN)"
      ]
    },
    {
      "cell_type": "markdown",
      "metadata": {},
      "source": [
        "## 1. Important Information"
      ]
    },
    {
      "cell_type": "markdown",
      "metadata": {},
      "source": [
        "The content of this notebook is based on the GSERM Summer School's \"Deep Learning: Fundamentals and Applications\" course of the University of St. Gallen and extended to showcase the use of the ML experiment tracking tool `Weigths & Biases`."
      ]
    },
    {
      "cell_type": "markdown",
      "metadata": {
        "id": "iPRKkkig9_r2"
      },
      "source": [
        "## 2. Setup of the Jupyter Notebook Environment"
      ]
    },
    {
      "cell_type": "markdown",
      "metadata": {
        "id": "7mZL4i6W9_r2"
      },
      "source": [
        "Similar to other labs, we need to import several Python libraries that facilitate data analysis and visualization. We will primarily use `PyTorch`, `NumPy`, `Scikit-learn`, `Matplotlib`, `Seaborn`, and a few utility libraries throughout this lab:"
      ]
    },
    {
      "cell_type": "code",
      "execution_count": 1,
      "metadata": {
        "id": "A9cwWtab9_r2"
      },
      "outputs": [],
      "source": [
        "# import standard python libraries\n",
        "import os, urllib, io\n",
        "from datetime import datetime\n",
        "import numpy as np"
      ]
    },
    {
      "cell_type": "markdown",
      "metadata": {
        "id": "FrB_51t89_r3"
      },
      "source": [
        "Import `Python` machine learning and deep learning libraries:"
      ]
    },
    {
      "cell_type": "code",
      "execution_count": 2,
      "metadata": {
        "id": "ZH6LhB_q9_r3"
      },
      "outputs": [],
      "source": [
        "# import the PyTorch deep learning library\n",
        "import torch, torchvision\n",
        "import torch.nn.functional as F\n",
        "from torch import nn, optim\n",
        "from torch.autograd import Variable\n",
        "import torchvision.transforms as transforms\n",
        "from torch.utils.data import random_split"
      ]
    },
    {
      "cell_type": "markdown",
      "metadata": {
        "id": "sfgYux7K9_r3"
      },
      "source": [
        "Import `Scikit-learn` classification metrics:"
      ]
    },
    {
      "cell_type": "code",
      "execution_count": 3,
      "metadata": {
        "id": "cFptYrnr9_r4"
      },
      "outputs": [],
      "source": [
        "# import sklearn classification evaluation library\n",
        "from sklearn import metrics\n",
        "from sklearn.metrics import classification_report, confusion_matrix"
      ]
    },
    {
      "cell_type": "markdown",
      "metadata": {
        "id": "WJJ5kfaf9_r4"
      },
      "source": [
        "Import `Matplotlib`, `Seaborn` and `PIL` data visualization libraries:"
      ]
    },
    {
      "cell_type": "code",
      "execution_count": 6,
      "metadata": {
        "id": "usAgsocK9_r4"
      },
      "outputs": [],
      "source": [
        "# import matplotlib, seaborn, and PIL data visualization library\n",
        "import matplotlib.pyplot as plt\n",
        "import seaborn as sns\n",
        "from PIL import Image"
      ]
    },
    {
      "cell_type": "markdown",
      "metadata": {},
      "source": [
        "Import `wandb` and log in to your W&B account:"
      ]
    },
    {
      "cell_type": "code",
      "execution_count": null,
      "metadata": {
        "colab": {
          "base_uri": "https://localhost:8080/",
          "height": 224
        },
        "id": "cq_VwMaKS2v1",
        "outputId": "ac531088-4d7e-4aaf-f7d9-542808a77743"
      },
      "outputs": [],
      "source": [
        "import wandb\n",
        "\n",
        "wandb.login()  # Log in to your W&B account"
      ]
    },
    {
      "cell_type": "markdown",
      "metadata": {
        "id": "kZft6q1B9_r5"
      },
      "source": [
        "Enable inline plotting with `Matplotlib`:"
      ]
    },
    {
      "cell_type": "code",
      "execution_count": 8,
      "metadata": {
        "id": "BXnX3zt_9_r5"
      },
      "outputs": [],
      "source": [
        "%matplotlib inline"
      ]
    },
    {
      "cell_type": "markdown",
      "metadata": {
        "id": "wcYgp4Gl9_r6"
      },
      "source": [
        "Set a random `seed` value to obtain reproducible results:"
      ]
    },
    {
      "cell_type": "code",
      "execution_count": 9,
      "metadata": {
        "colab": {
          "base_uri": "https://localhost:8080/"
        },
        "id": "vdbqEjHb9_r7",
        "outputId": "4751a471-13d3-48c5-be82-2ca95322fc94"
      },
      "outputs": [
        {
          "data": {
            "text/plain": [
              "<torch._C.Generator at 0x10e203550>"
            ]
          },
          "execution_count": 9,
          "metadata": {},
          "output_type": "execute_result"
        }
      ],
      "source": [
        "# init deterministic seed (outputs always the same numbers)\n",
        "seed_value = 1234\n",
        "np.random.seed(seed_value) # set numpy seed\n",
        "torch.manual_seed(seed_value) # set pytorch seed CPU"
      ]
    },
    {
      "cell_type": "markdown",
      "metadata": {
        "id": "zpKQNDr09_r7"
      },
      "source": [
        "Google Colab provides free GPUs for running notebooks. However, if you execute this notebook as is, it will use your device's CPU. To run the lab on a GPU, go to `Runtime` > `Change runtime type` and set the Runtime type to `GPU` in the drop-down menu. Running this lab on a CPU is fine, but you will find that GPU computing is faster. *CUDA* indicates that the lab is being run on a GPU.\n",
        "\n",
        "Enable GPU computing by setting the device flag and initializing a CUDA seed:"
      ]
    },
    {
      "cell_type": "code",
      "execution_count": 10,
      "metadata": {
        "colab": {
          "base_uri": "https://localhost:8080/"
        },
        "id": "IAFg7INc9_r7",
        "outputId": "5e821f0b-56b4-4047-8fac-064b7da4d600"
      },
      "outputs": [
        {
          "name": "stdout",
          "output_type": "stream",
          "text": [
            "[LOG] notebook with cpu computation enabled\n"
          ]
        }
      ],
      "source": [
        "# set cpu or gpu enabled device\n",
        "device = torch.device('cuda' if torch.cuda.is_available() else 'cpu').type\n",
        "\n",
        "# init deterministic GPU seed\n",
        "torch.cuda.manual_seed(seed_value)\n",
        "\n",
        "# log type of device enabled\n",
        "print('[LOG] notebook with {} computation enabled'.format(str(device)))"
      ]
    },
    {
      "cell_type": "markdown",
      "metadata": {
        "id": "Y-7Ve4-_9_r7"
      },
      "source": [
        "Let's determine if we have access to a GPU provided by environments such as `Google Colab`:"
      ]
    },
    {
      "cell_type": "code",
      "execution_count": 11,
      "metadata": {
        "colab": {
          "base_uri": "https://localhost:8080/"
        },
        "id": "VCpTB9x59_r8",
        "outputId": "830c28e7-ed28-4e67-b36a-c3cb0d74b6ce"
      },
      "outputs": [
        {
          "name": "stdout",
          "output_type": "stream",
          "text": [
            "zsh:1: command not found: nvidia-smi\n"
          ]
        }
      ],
      "source": [
        "!nvidia-smi"
      ]
    },
    {
      "cell_type": "markdown",
      "metadata": {
        "id": "XH1CSkRV9_r8"
      },
      "source": [
        "## 3. Dataset Download and Data Assessment"
      ]
    },
    {
      "cell_type": "markdown",
      "metadata": {
        "id": "UWDn7IQE9_r8"
      },
      "source": [
        "The **CIFAR-10 database** (**C**anadian **I**nstitute **F**or **A**dvanced **R**esearch) is a collection of images. The size of each image is 32 by 32 pixels. Specifically, it contains **60,000 color images**. The size of each image is 32 by 32 pixels. The collection of images encompasses 10 different classes: airplanes, cars, birds, cats, deer, dogs, frogs, horses, ships, and trucks. Let's define the distinct classes for further analysis."
      ]
    },
    {
      "cell_type": "code",
      "execution_count": 12,
      "metadata": {
        "id": "1WlB2yXu9_r-"
      },
      "outputs": [],
      "source": [
        "cifar10_classes = ['plane', 'car', 'bird', 'cat', 'deer', 'dog', 'frog', 'horse', 'ship', 'truck']"
      ]
    },
    {
      "cell_type": "markdown",
      "metadata": {
        "id": "kRslZNGV9_r-"
      },
      "source": [
        "Let's download the CIFAR-10 training (80%) and validation (10%) and test (10%) datasets and log them to W&B:"
      ]
    },
    {
      "cell_type": "code",
      "execution_count": 13,
      "metadata": {
        "colab": {
          "base_uri": "https://localhost:8080/",
          "height": 187
        },
        "id": "B2Bmhc-c9_r-",
        "outputId": "0f092997-e6c7-43ad-ff18-357e091d39f4"
      },
      "outputs": [
        {
          "name": "stderr",
          "output_type": "stream",
          "text": [
            "\u001b[34m\u001b[1mwandb\u001b[0m: Using wandb-core as the SDK backend.  Please refer to https://wandb.me/wandb-core for more information.\n"
          ]
        },
        {
          "data": {
            "text/html": [
              "Tracking run with wandb version 0.19.5"
            ],
            "text/plain": [
              "<IPython.core.display.HTML object>"
            ]
          },
          "metadata": {},
          "output_type": "display_data"
        },
        {
          "data": {
            "text/html": [
              "Run data is saved locally in <code>/Users/emmakozmer/Desktop/UNI/3. Jahr/6.Semester/MLOps/MLOPS_ML_Experiments/wandb/run-20250413_160923-9kbi2xsh</code>"
            ],
            "text/plain": [
              "<IPython.core.display.HTML object>"
            ]
          },
          "metadata": {},
          "output_type": "display_data"
        },
        {
          "data": {
            "text/html": [
              "Syncing run <strong><a href='https://wandb.ai/emma-kozmer-university-of-st-gallen/CIFAR10-Experiment-WB/runs/9kbi2xsh' target=\"_blank\">log-tensor-datasets</a></strong> to <a href='https://wandb.ai/emma-kozmer-university-of-st-gallen/CIFAR10-Experiment-WB' target=\"_blank\">Weights & Biases</a> (<a href='https://wandb.me/developer-guide' target=\"_blank\">docs</a>)<br>"
            ],
            "text/plain": [
              "<IPython.core.display.HTML object>"
            ]
          },
          "metadata": {},
          "output_type": "display_data"
        },
        {
          "data": {
            "text/html": [
              " View project at <a href='https://wandb.ai/emma-kozmer-university-of-st-gallen/CIFAR10-Experiment-WB' target=\"_blank\">https://wandb.ai/emma-kozmer-university-of-st-gallen/CIFAR10-Experiment-WB</a>"
            ],
            "text/plain": [
              "<IPython.core.display.HTML object>"
            ]
          },
          "metadata": {},
          "output_type": "display_data"
        },
        {
          "data": {
            "text/html": [
              " View run at <a href='https://wandb.ai/emma-kozmer-university-of-st-gallen/CIFAR10-Experiment-WB/runs/9kbi2xsh' target=\"_blank\">https://wandb.ai/emma-kozmer-university-of-st-gallen/CIFAR10-Experiment-WB/runs/9kbi2xsh</a>"
            ],
            "text/plain": [
              "<IPython.core.display.HTML object>"
            ]
          },
          "metadata": {},
          "output_type": "display_data"
        },
        {
          "data": {
            "text/html": [],
            "text/plain": [
              "<IPython.core.display.HTML object>"
            ]
          },
          "metadata": {},
          "output_type": "display_data"
        },
        {
          "data": {
            "text/html": [
              " View run <strong style=\"color:#cdcd00\">log-tensor-datasets</strong> at: <a href='https://wandb.ai/emma-kozmer-university-of-st-gallen/CIFAR10-Experiment-WB/runs/9kbi2xsh' target=\"_blank\">https://wandb.ai/emma-kozmer-university-of-st-gallen/CIFAR10-Experiment-WB/runs/9kbi2xsh</a><br> View project at: <a href='https://wandb.ai/emma-kozmer-university-of-st-gallen/CIFAR10-Experiment-WB' target=\"_blank\">https://wandb.ai/emma-kozmer-university-of-st-gallen/CIFAR10-Experiment-WB</a><br>Synced 5 W&B file(s), 0 media file(s), 0 artifact file(s) and 0 other file(s)"
            ],
            "text/plain": [
              "<IPython.core.display.HTML object>"
            ]
          },
          "metadata": {},
          "output_type": "display_data"
        },
        {
          "data": {
            "text/html": [
              "Find logs at: <code>./wandb/run-20250413_160923-9kbi2xsh/logs</code>"
            ],
            "text/plain": [
              "<IPython.core.display.HTML object>"
            ]
          },
          "metadata": {},
          "output_type": "display_data"
        }
      ],
      "source": [
        "# Define the root and output directory for the CIFAR-10 dataset\n",
        "root_dir = \"data/cifar10\"\n",
        "output_dir = \"data/cifar10_tensor\"\n",
        "os.makedirs(output_dir, exist_ok=True)\n",
        "\n",
        "# Transform images into PyTorch tensors and normalize them (important for training)\n",
        "transf = transforms.Compose([\n",
        "    transforms.ToTensor(),\n",
        "    transforms.Normalize((0.5, 0.5, 0.5), (0.5, 0.5, 0.5))\n",
        "])\n",
        "\n",
        "# Load the full training dataset (50k images)\n",
        "full_train = torchvision.datasets.CIFAR10(root=root_dir, train=True, transform=transf, download=True)\n",
        "\n",
        "# Split data into training (40k images) and validation (10k images)\n",
        "train_size = int(0.8 * len(full_train))  # 40,000\n",
        "val_size = len(full_train) - train_size  # 10,000\n",
        "train_data, val_data = random_split(full_train, [train_size, val_size])\n",
        "\n",
        "# Load the test set (10k images)\n",
        "test_data = torchvision.datasets.CIFAR10(root=root_dir, train=False, transform=transf, download=True)\n",
        "\n",
        "# Save the dataset splits locally\n",
        "torch.save(train_data, os.path.join(output_dir, \"train_data.pt\"))\n",
        "torch.save(val_data, os.path.join(output_dir, \"val_data.pt\"))\n",
        "torch.save(test_data, os.path.join(output_dir, \"test_data.pt\"))\n",
        "\n",
        "\n",
        "# ====== Log the datasets as artifacts to W&B ======\n",
        "\n",
        "# Initialize W&B run\n",
        "wandb.init(project=\"CIFAR10-Experiment-WB\", name=\"log-tensor-datasets\")\n",
        "\n",
        "# Log the dataset splits as artifacts\n",
        "train_artifact = wandb.Artifact(\"cifar10-train-tensor\", type=\"dataset\")\n",
        "train_artifact.add_file(os.path.join(output_dir, \"train_data.pt\"))\n",
        "wandb.log_artifact(train_artifact)\n",
        "\n",
        "val_artifact = wandb.Artifact(\"cifar10-val-tensor\", type=\"dataset\")\n",
        "val_artifact.add_file(os.path.join(output_dir, \"val_data.pt\"))\n",
        "wandb.log_artifact(val_artifact)\n",
        "\n",
        "test_artifact = wandb.Artifact(\"cifar10-test-tensor\", type=\"dataset\")\n",
        "test_artifact.add_file(os.path.join(output_dir, \"test_data.pt\"))\n",
        "wandb.log_artifact(test_artifact)\n",
        "\n",
        "wandb.finish() # Finish the W&B run"
      ]
    },
    {
      "cell_type": "markdown",
      "metadata": {
        "id": "g79sdHOw9_sA"
      },
      "source": [
        "Verify the volume of training, validation and test images downloaded:"
      ]
    },
    {
      "cell_type": "code",
      "execution_count": 14,
      "metadata": {
        "colab": {
          "base_uri": "https://localhost:8080/"
        },
        "id": "uiKFBLrI9_sA",
        "outputId": "379b6abd-4ebb-45a7-e1b3-7ba21ca8edd3"
      },
      "outputs": [
        {
          "name": "stdout",
          "output_type": "stream",
          "text": [
            "Train: 40000 | Val: 10000 | Test: 10000\n"
          ]
        }
      ],
      "source": [
        "print(f\"Train: {len(train_data)} | Val: {len(val_data)} | Test: {len(test_data)}\")"
      ]
    },
    {
      "cell_type": "markdown",
      "metadata": {
        "id": "CDDjW4jk9_sA"
      },
      "source": [
        "Next, let's investigate a couple of the training images:"
      ]
    },
    {
      "cell_type": "code",
      "execution_count": 15,
      "metadata": {
        "colab": {
          "base_uri": "https://localhost:8080/"
        },
        "id": "h8j19ga29_sA",
        "outputId": "741fef99-e42c-4821-90f9-e9e8b690f88f"
      },
      "outputs": [
        {
          "data": {
            "text/plain": [
              "(tensor([[[-0.1373, -0.1686, -0.1451,  ..., -0.2627, -0.1843, -0.1922],\n",
              "          [-0.2157, -0.2000, -0.2078,  ..., -0.2471, -0.2000, -0.2078],\n",
              "          [-0.2627, -0.1686, -0.2078,  ..., -0.2157, -0.1451, -0.1451],\n",
              "          ...,\n",
              "          [ 0.1137,  0.0980,  0.0824,  ...,  0.0196,  0.0118,  0.1137],\n",
              "          [ 0.0667,  0.0353,  0.0431,  ...,  0.0196,  0.0039,  0.0745],\n",
              "          [ 0.0196, -0.0196,  0.0039,  ..., -0.2471, -0.2078, -0.1922]],\n",
              " \n",
              "         [[ 0.0667,  0.0588,  0.0510,  ..., -0.0980, -0.0118, -0.0275],\n",
              "          [-0.0039, -0.0039, -0.0353,  ..., -0.0824, -0.0353, -0.0667],\n",
              "          [-0.0824, -0.0275, -0.0824,  ..., -0.0510,  0.0353,  0.0275],\n",
              "          ...,\n",
              "          [ 0.2941,  0.2706,  0.2627,  ...,  0.1843,  0.1922,  0.3098],\n",
              "          [ 0.2549,  0.2235,  0.2392,  ...,  0.1686,  0.1686,  0.2549],\n",
              "          [ 0.2157,  0.1686,  0.2000,  ..., -0.0980, -0.0588, -0.0118]],\n",
              " \n",
              "         [[ 0.1059,  0.1137,  0.0824,  ..., -0.0667, -0.0196, -0.0196],\n",
              "          [ 0.0196,  0.0588,  0.0431,  ..., -0.0588, -0.0510, -0.0667],\n",
              "          [-0.0510, -0.0039, -0.0353,  ..., -0.0431, -0.0039, -0.0118],\n",
              "          ...,\n",
              "          [-0.3961, -0.4118, -0.4431,  ..., -0.4275, -0.4667, -0.4039],\n",
              "          [-0.4275, -0.4667, -0.4667,  ..., -0.3490, -0.3882, -0.3255],\n",
              "          [-0.4745, -0.5373, -0.5059,  ..., -0.5843, -0.5373, -0.5294]]]),\n",
              " 4)"
            ]
          },
          "execution_count": 15,
          "metadata": {},
          "output_type": "execute_result"
        }
      ],
      "source": [
        "# set (random) image id\n",
        "image_id = 1800\n",
        "\n",
        "# retrieve image exhibiting the image id\n",
        "train_data[image_id]"
      ]
    },
    {
      "cell_type": "markdown",
      "metadata": {
        "id": "pZsiUhXb9_sB"
      },
      "source": [
        "Ok, that doesn't seem easily interpretable ;) Let's first separate the image from its label information:"
      ]
    },
    {
      "cell_type": "code",
      "execution_count": 16,
      "metadata": {
        "id": "oe3JTrQO9_sB"
      },
      "outputs": [],
      "source": [
        "cifar10_train_image, cifar10_train_label = train_data[image_id]"
      ]
    },
    {
      "cell_type": "markdown",
      "metadata": {
        "id": "D7vnZCRy9_sB"
      },
      "source": [
        "Great, now we can visually inspect our sample image:"
      ]
    },
    {
      "cell_type": "code",
      "execution_count": 17,
      "metadata": {
        "colab": {
          "base_uri": "https://localhost:8080/",
          "height": 469
        },
        "id": "yNRCdqHO9_sB",
        "outputId": "f810f5d1-c9e6-4fb6-f510-40b6ee998146"
      },
      "outputs": [
        {
          "data": {
            "text/plain": [
              "<matplotlib.image.AxesImage at 0x1513d1f00>"
            ]
          },
          "execution_count": 17,
          "metadata": {},
          "output_type": "execute_result"
        },
        {
          "data": {
            "image/png": "[encoded data removed]",
            "text/plain": [
              "<Figure size 640x480 with 1 Axes>"
            ]
          },
          "metadata": {},
          "output_type": "display_data"
        }
      ],
      "source": [
        "# define tensor to image transformation\n",
        "trans = torchvision.transforms.ToPILImage()\n",
        "\n",
        "# set image plot title\n",
        "plt.title('Example: {}, Label: \"{}\"'.format(str(image_id), str(cifar10_classes[cifar10_train_label])))\n",
        "\n",
        "# un-normalize cifar 10 image sample\n",
        "cifar10_train_image_plot = cifar10_train_image / 2.0 + 0.5\n",
        "\n",
        "# plot 10 image sample\n",
        "plt.imshow(trans(cifar10_train_image_plot))"
      ]
    },
    {
      "cell_type": "markdown",
      "metadata": {
        "id": "B9Xivz3j9_sD"
      },
      "source": [
        "## 4. Neural Network Implementation"
      ]
    },
    {
      "cell_type": "markdown",
      "metadata": {
        "id": "5Reatmz29_sD"
      },
      "source": [
        "In this section we, will implement the architecture of the **neural network** we aim to utilize to learn a model that is capable of classifying the **32x32 pixel** CIFAR 10 images according to the objects contained in each image. \n",
        "\n",
        "Please find the model implementation in the separate `CNN.py` file and the corresponding `CNN.yaml`."
      ]
    },
    {
      "cell_type": "markdown",
      "metadata": {
        "id": "sWU9hWb_9_sO"
      },
      "source": [
        "## 5. Neural Network Model Training"
      ]
    },
    {
      "cell_type": "markdown",
      "metadata": {
        "id": "jdQLICDt9_sO"
      },
      "source": [
        "In this section, we will train our neural network model (as implemented in the section above) using the transformed images. \n",
        "\n",
        "Specifically, we will apply Hyperparameter Optimization through so-called Sweeps in W&B. For that please:\n",
        "\n",
        "1. Take a look at the CNN.yaml file with the different HPO parameter combinations spedified.\n",
        "2. Visit the train_sweep.py script where the training process is specified.\n",
        "3. Run the HPO with the command: `wandb sweep CNN.yaml` in the root of this directory (this starts the hyperparameter tuning)\n",
        "4. Run the wandb agent command.\n",
        "5. Follow the tuning process (different runs) on your W&B project dashboard. \n",
        "6. Once all runs are finished, filter the runs according to their validation loss (that's what we wanted to minimize). The run with the smallest validation loss is our best model. \n",
        "7. Update and log the parameters of the best model to W&B with the following code:\n"
      ]
    },
    {
      "cell_type": "code",
      "execution_count": null,
      "metadata": {},
      "outputs": [
        {
          "data": {
            "text/html": [
              "Tracking run with wandb version 0.19.5"
            ],
            "text/plain": [
              "<IPython.core.display.HTML object>"
            ]
          },
          "metadata": {},
          "output_type": "display_data"
        },
        {
          "data": {
            "text/html": [
              "Run data is saved locally in <code>/Users/emmakozmer/Desktop/UNI/3. Jahr/6.Semester/MLOps/MLOPS_ML_Experiments/wandb/run-20250413_161030-dvzkbl63</code>"
            ],
            "text/plain": [
              "<IPython.core.display.HTML object>"
            ]
          },
          "metadata": {},
          "output_type": "display_data"
        },
        {
          "data": {
            "text/html": [
              "Syncing run <strong><a href='https://wandb.ai/emma-kozmer-university-of-st-gallen/CIFAR10-Experiment-WB/runs/dvzkbl63' target=\"_blank\">best-run-setup</a></strong> to <a href='https://wandb.ai/emma-kozmer-university-of-st-gallen/CIFAR10-Experiment-WB' target=\"_blank\">Weights & Biases</a> (<a href='https://wandb.me/developer-guide' target=\"_blank\">docs</a>)<br>"
            ],
            "text/plain": [
              "<IPython.core.display.HTML object>"
            ]
          },
          "metadata": {},
          "output_type": "display_data"
        },
        {
          "data": {
            "text/html": [
              " View project at <a href='https://wandb.ai/emma-kozmer-university-of-st-gallen/CIFAR10-Experiment-WB' target=\"_blank\">https://wandb.ai/emma-kozmer-university-of-st-gallen/CIFAR10-Experiment-WB</a>"
            ],
            "text/plain": [
              "<IPython.core.display.HTML object>"
            ]
          },
          "metadata": {},
          "output_type": "display_data"
        },
        {
          "data": {
            "text/html": [
              " View run at <a href='https://wandb.ai/emma-kozmer-university-of-st-gallen/CIFAR10-Experiment-WB/runs/dvzkbl63' target=\"_blank\">https://wandb.ai/emma-kozmer-university-of-st-gallen/CIFAR10-Experiment-WB/runs/dvzkbl63</a>"
            ],
            "text/plain": [
              "<IPython.core.display.HTML object>"
            ]
          },
          "metadata": {},
          "output_type": "display_data"
        },
        {
          "data": {
            "text/html": [],
            "text/plain": [
              "<IPython.core.display.HTML object>"
            ]
          },
          "metadata": {},
          "output_type": "display_data"
        },
        {
          "data": {
            "text/html": [
              " View run <strong style=\"color:#cdcd00\">best-run-setup</strong> at: <a href='https://wandb.ai/emma-kozmer-university-of-st-gallen/CIFAR10-Experiment-WB/runs/dvzkbl63' target=\"_blank\">https://wandb.ai/emma-kozmer-university-of-st-gallen/CIFAR10-Experiment-WB/runs/dvzkbl63</a><br> View project at: <a href='https://wandb.ai/emma-kozmer-university-of-st-gallen/CIFAR10-Experiment-WB' target=\"_blank\">https://wandb.ai/emma-kozmer-university-of-st-gallen/CIFAR10-Experiment-WB</a><br>Synced 5 W&B file(s), 0 media file(s), 0 artifact file(s) and 0 other file(s)"
            ],
            "text/plain": [
              "<IPython.core.display.HTML object>"
            ]
          },
          "metadata": {},
          "output_type": "display_data"
        },
        {
          "data": {
            "text/html": [
              "Find logs at: <code>./wandb/run-20250413_161030-dvzkbl63/logs</code>"
            ],
            "text/plain": [
              "<IPython.core.display.HTML object>"
            ]
          },
          "metadata": {},
          "output_type": "display_data"
        }
      ],
      "source": [
        "wandb.init(project=\"CIFAR10-Experiment-WB\", name=\"best-run-setup\")\n",
        "\n",
        "wandb.config.update({\n",
        "    \"learning_rate\": 0.01,\n",
        "    \"optimizer\": \"SGD\",\n",
        "    \"loss\": \"NLLLoss\",\n",
        "    \"batch_size\": 32,\n",
        "    \"epochs\": 20\n",
        "})\n",
        "wandb.finish()"
      ]
    },
    {
      "cell_type": "markdown",
      "metadata": {},
      "source": [
        "8. Now, go to the \"Runs\" dashboard of the W&B project and sort the runs acording to VAL_LOSS ascending. The top most run is our best run and by clicking on it and going to the Artifacts/Files you can find the BEST_CNN.pth file. \n",
        "9. Please write down the run_id and the exact artifact_name_contains variables in the code below and run the code below to download the best model into the /models/ direcory of this project."
      ]
    },
    {
      "cell_type": "code",
      "execution_count": 44,
      "metadata": {},
      "outputs": [
        {
          "name": "stdout",
          "output_type": "stream",
          "text": [
            "\n",
            "Run Metadata:\n",
            "Run Name: good-sweep-7\n",
            "Config: {'seed': 1234, 'optimizer': 'SGD', 'batch_size': 32, 'num_epochs': 20, 'learning_rate': 0.01}\n",
            "val_loss (from summary): 1.0726522757603338\n",
            "\n"
          ]
        },
        {
          "name": "stderr",
          "output_type": "stream",
          "text": [
            "\u001b[34m\u001b[1mwandb\u001b[0m:   1 of 1 files downloaded.  \n"
          ]
        },
        {
          "name": "stdout",
          "output_type": "stream",
          "text": [
            "Model downloaded to: models\n"
          ]
        }
      ],
      "source": [
        "# --- Configuration ---\n",
        "run_id = \"2m6jfq78\"  #2m6jfq78 7wc4xy09\n",
        "project_path = \"emma-kozmer-university-of-st-gallen/CIFAR10-Experiment-WB/runs\"\n",
        "artifact_name_contains = \"BEST_CNN:v30\" \n",
        "download_dir = \"models\"\n",
        "\n",
        "# --- Load Run from API ---\n",
        "api = wandb.Api()\n",
        "run = api.run(f\"{project_path}/{run_id}\")\n",
        "\n",
        "print(\"\\nRun Metadata:\")\n",
        "print(f\"Run Name: {run.name}\")\n",
        "print(f\"Config: {run.config}\")\n",
        "print(f\"val_loss (from summary): {run.summary.get('val_loss')}\\n\")\n",
        "\n",
        "# --- Locate and Download Artifact ---\n",
        "for artifact in run.logged_artifacts():\n",
        "    if artifact.type == \"model\" and artifact_name_contains in artifact.name:\n",
        "        model_path = artifact.download(root=download_dir)\n",
        "        print(f\"Model downloaded to: {model_path}\")\n",
        "        break\n",
        "else:\n",
        "    print(\"No matching model artifact found in this run.\")\n",
        "    exit()"
      ]
    },
    {
      "cell_type": "markdown",
      "metadata": {},
      "source": [
        "10. Now, we are ready to evaluate the model. "
      ]
    },
    {
      "cell_type": "markdown",
      "metadata": {
        "id": "N8NnkvgF9_sR"
      },
      "source": [
        "## 6. Neural Network Model Evaluation"
      ]
    },
    {
      "cell_type": "markdown",
      "metadata": {},
      "source": [
        "For the evaluation our model, needs to be loaded from the local directory where we stored it in the previous step."
      ]
    },
    {
      "cell_type": "code",
      "execution_count": 45,
      "metadata": {
        "colab": {
          "base_uri": "https://localhost:8080/"
        },
        "id": "siwd2xJr9_sR",
        "outputId": "c3f59a4e-295a-4709-a7a4-235810fe83d0"
      },
      "outputs": [
        {
          "name": "stdout",
          "output_type": "stream",
          "text": [
            "Model loaded successfully from models/BEST_CNN.pth\n"
          ]
        }
      ],
      "source": [
        "from CNN import CIFAR10Net\n",
        "\n",
        "# Initialize model\n",
        "best_model = CIFAR10Net()\n",
        "\n",
        "# Load model weights from the local .pth file\n",
        "model_path = \"models/BEST_CNN.pth\"\n",
        "best_model.load_state_dict(torch.load(model_path, map_location=torch.device('cpu')))\n",
        "\n",
        "# Set model to evaluation mode\n",
        "best_model.eval()\n",
        "\n",
        "print(\"Model loaded successfully from models/BEST_CNN.pth\")\n"
      ]
    },
    {
      "cell_type": "markdown",
      "metadata": {
        "id": "9lMsauia9_sS"
      },
      "source": [
        "To evaluate our trained model, we need to feed the CIFAR-10 images reserved for evaluation (the images that we didn't use as part of the training process) through the model. Therefore, let's define a corresponding PyTorch data loader that feeds the image tensors to our neural network.\n",
        "\n",
        "We will now evaluate the trained model using the same mini-batch approach as we did when training the network and derive the mean negative log-likelihood loss of all mini-batches processed in an epoch:"
      ]
    },
    {
      "cell_type": "code",
      "execution_count": 46,
      "metadata": {
        "colab": {
          "base_uri": "https://localhost:8080/"
        },
        "id": "sM691HZH9_sS",
        "outputId": "79e69640-8fb3-4165-ce94-e695dd813d45"
      },
      "outputs": [
        {
          "name": "stdout",
          "output_type": "stream",
          "text": [
            "[LOG 20250413-14:31:20] eval-loss: 1.0608\n"
          ]
        }
      ],
      "source": [
        "import torch\n",
        "import torch.nn as nn\n",
        "import torchvision.transforms as transforms\n",
        "from torch.utils.data import DataLoader\n",
        "from datetime import datetime\n",
        "\n",
        "# Define the transform used during training\n",
        "transform = transforms.Compose([\n",
        "    transforms.ToTensor(),\n",
        "    transforms.Normalize((0.5, 0.5, 0.5), (0.5, 0.5, 0.5))\n",
        "])\n",
        "\n",
        "# Load the test dataset from .pt file\n",
        "test_data = torch.load(\"data/cifar10_tensor/test_data.pt\", weights_only=False) \n",
        "test_loader = DataLoader(test_data, batch_size=10000, shuffle=False)\n",
        "\n",
        "# Loss function\n",
        "nll_loss = nn.NLLLoss()\n",
        "\n",
        "# Evaluate\n",
        "eval_mini_batch_losses = []\n",
        "\n",
        "for images, labels in test_loader:\n",
        "    output = best_model(images)\n",
        "    loss = nll_loss(output, labels)\n",
        "    eval_mini_batch_losses.append(loss.item())\n",
        "\n",
        "eval_loss = np.mean(eval_mini_batch_losses)\n",
        "now = datetime.utcnow().strftime(\"%Y%m%d-%H:%M:%S\")\n",
        "print(f\"[LOG {now}] eval-loss: {eval_loss:.4f}\")\n"
      ]
    },
    {
      "cell_type": "markdown",
      "metadata": {
        "id": "8rrVTPcz9_sS"
      },
      "source": [
        "Great! The evaluation loss looks in line with our training loss. Let's now inspect a few sample predictions to get an impression of the model quality. We will again pick a random image from our evaluation dataset and retrieve its PyTorch tensor as well as the corresponding label:"
      ]
    },
    {
      "cell_type": "code",
      "execution_count": 47,
      "metadata": {
        "id": "_RWjAuPv9_sT"
      },
      "outputs": [],
      "source": [
        "# set (random) image id\n",
        "image_id = 777\n",
        "\n",
        "# retrieve image exhibiting the image id\n",
        "cifar10_eval_image, cifar10_eval_label = test_data[image_id]"
      ]
    },
    {
      "cell_type": "markdown",
      "metadata": {
        "id": "lVxTWZQ59_sT"
      },
      "source": [
        "Let's now check the true class of the image we selected:"
      ]
    },
    {
      "cell_type": "code",
      "execution_count": 48,
      "metadata": {
        "colab": {
          "base_uri": "https://localhost:8080/",
          "height": 35
        },
        "id": "dIIU_7HW9_sT",
        "outputId": "bf86fc19-d27b-4d85-d3dd-2e2c0b85f1f8"
      },
      "outputs": [
        {
          "data": {
            "text/plain": [
              "'frog'"
            ]
          },
          "execution_count": 48,
          "metadata": {},
          "output_type": "execute_result"
        }
      ],
      "source": [
        "cifar10_classes[cifar10_eval_label]"
      ]
    },
    {
      "cell_type": "markdown",
      "metadata": {
        "id": "In4-hd8Z9_sT"
      },
      "source": [
        "Okay, the randomly selected image should contain a two (2). Let's inspect the image accordingly:"
      ]
    },
    {
      "cell_type": "code",
      "execution_count": 49,
      "metadata": {
        "colab": {
          "base_uri": "https://localhost:8080/",
          "height": 469
        },
        "id": "HeME1Kuf9_sT",
        "outputId": "f301b31b-6a61-43c0-93fa-399ec9a41aa0"
      },
      "outputs": [
        {
          "data": {
            "text/plain": [
              "<matplotlib.image.AxesImage at 0x1573023b0>"
            ]
          },
          "execution_count": 49,
          "metadata": {},
          "output_type": "execute_result"
        },
        {
          "data": {
            "image/png": "[encoded data removed]",
            "text/plain": [
              "<Figure size 640x480 with 1 Axes>"
            ]
          },
          "metadata": {},
          "output_type": "display_data"
        }
      ],
      "source": [
        "# define tensor to image transformation\n",
        "trans = torchvision.transforms.ToPILImage()\n",
        "\n",
        "# set image plot title\n",
        "plt.title('Example: {}, Label: {}'.format(str(image_id), str(cifar10_classes[cifar10_eval_label])))\n",
        "\n",
        "# un-normalize cifar 10 image sample\n",
        "cifar10_eval_image_plot = cifar10_eval_image / 2.0 + 0.5\n",
        "\n",
        "# plot cifar 10 image sample\n",
        "plt.imshow(trans(cifar10_eval_image_plot))"
      ]
    },
    {
      "cell_type": "markdown",
      "metadata": {
        "id": "liRyC0t79_sT"
      },
      "source": [
        "Now, let's compare the true label with the prediction of our model:\n"
      ]
    },
    {
      "cell_type": "code",
      "execution_count": 50,
      "metadata": {
        "colab": {
          "base_uri": "https://localhost:8080/"
        },
        "id": "bLjo87kl9_sX",
        "outputId": "9f03e3a2-8f9a-49d6-ab42-0937a6fcf50b"
      },
      "outputs": [
        {
          "data": {
            "text/plain": [
              "tensor([[-8.4396, -9.3668, -4.8111, -1.7079, -3.6583, -2.4736, -0.3590, -6.4075,\n",
              "         -8.5955, -9.6339]], grad_fn=<LogSoftmaxBackward0>)"
            ]
          },
          "execution_count": 50,
          "metadata": {},
          "output_type": "execute_result"
        }
      ],
      "source": [
        "best_model(cifar10_eval_image.unsqueeze(0))"
      ]
    },
    {
      "cell_type": "markdown",
      "metadata": {
        "id": "q_3oz6t09_sX"
      },
      "source": [
        "We can even determine the likelihood of the most probable class:"
      ]
    },
    {
      "cell_type": "code",
      "execution_count": 51,
      "metadata": {
        "colab": {
          "base_uri": "https://localhost:8080/",
          "height": 35
        },
        "id": "ggPTl-gz9_sX",
        "outputId": "d22c49bc-c142-487f-8991-a4e5bc760d5c"
      },
      "outputs": [
        {
          "data": {
            "text/plain": [
              "'frog'"
            ]
          },
          "execution_count": 51,
          "metadata": {},
          "output_type": "execute_result"
        }
      ],
      "source": [
        "cifar10_classes[torch.argmax(best_model(Variable(cifar10_eval_image.unsqueeze(0))), dim=1).item()]"
      ]
    },
    {
      "cell_type": "markdown",
      "metadata": {
        "id": "4ERjK-u79_sY"
      },
      "source": [
        "Let's now obtain the predictions for all the CIFAR-10 images in the evaluation data:"
      ]
    },
    {
      "cell_type": "code",
      "execution_count": 52,
      "metadata": {
        "id": "PmKPLlar9_sY"
      },
      "outputs": [],
      "source": [
        "predictions = torch.argmax(best_model(next(iter(test_loader))[0]), dim=1)"
      ]
    },
    {
      "cell_type": "markdown",
      "metadata": {
        "id": "IxEmgtiD9_sY"
      },
      "source": [
        "Next, let's obtain the overall classification accuracy:"
      ]
    },
    {
      "cell_type": "code",
      "execution_count": 53,
      "metadata": {
        "colab": {
          "base_uri": "https://localhost:8080/"
        },
        "id": "49xGbTlV9_sY",
        "outputId": "ed23e67d-26be-4e24-858d-be14b6509a08"
      },
      "outputs": [
        {
          "data": {
            "text/plain": [
              "0.6334"
            ]
          },
          "execution_count": 53,
          "metadata": {},
          "output_type": "execute_result"
        }
      ],
      "source": [
        "metrics.accuracy_score(test_data.targets, predictions.detach())"
      ]
    },
    {
      "cell_type": "markdown",
      "metadata": {
        "id": "7nafaYuD9_sY"
      },
      "source": [
        "Finally, let's also inspect the confusion matrix of the model predictions to determine the major sources of misclassification:"
      ]
    },
    {
      "cell_type": "code",
      "execution_count": 30,
      "metadata": {
        "colab": {
          "base_uri": "https://localhost:8080/",
          "height": 714
        },
        "id": "hgUvHNl49_sY",
        "outputId": "bd24dfd3-edb9-4b2c-c1b9-fc6cb6623f36"
      },
      "outputs": [
        {
          "data": {
            "image/png": "[encoded data removed]",
            "text/plain": [
              "<Figure size 800x800 with 1 Axes>"
            ]
          },
          "metadata": {},
          "output_type": "display_data"
        }
      ],
      "source": [
        "# determine classification matrix of the predicted and target classes\n",
        "mat = confusion_matrix(test_data.targets, predictions.detach())\n",
        "\n",
        "# initialize the plot and define size\n",
        "plt.figure(figsize=(8, 8))\n",
        "\n",
        "# plot corresponding confusion matrix\n",
        "sns.heatmap(mat.T, square=True, annot=True, fmt='d', cbar=False, cmap='YlOrRd_r', xticklabels=cifar10_classes, yticklabels=cifar10_classes)\n",
        "plt.tick_params(axis='both', which='major', labelsize=8, labelbottom = False, bottom=False, top = False, left = False, labeltop=True)\n",
        "\n",
        "# set plot title\n",
        "plt.title('CIFAR-10 classification matrix')\n",
        "\n",
        "# set plot axis lables\n",
        "plt.xlabel('[true label]')\n",
        "plt.ylabel('[predicted label]');"
      ]
    },
    {
      "cell_type": "markdown",
      "metadata": {
        "id": "dVNmm42q9_sZ"
      },
      "source": [
        "Okay, we can easily see that our current model often confuses images of cats and dogs, as well as images of trucks and cars. This is not surprising since those image categories exhibit a high semantic and visual similarity."
      ]
    }
  ],
  "metadata": {
    "accelerator": "GPU",
    "colab": {
      "collapsed_sections": [
        "eW6dySzs9_r1",
        "iPRKkkig9_r2",
        "XH1CSkRV9_r8",
        "B9Xivz3j9_sD",
        "QYN6Dedt9_sF",
        "rUeMEeHa9_sJ",
        "Bx3f3t1q9_sJ",
        "sWU9hWb_9_sO",
        "N8NnkvgF9_sR",
        "038JB6i49_sZ",
        "ST0oDfsq9_sk"
      ],
      "gpuType": "T4",
      "name": "colab_05.ipynb",
      "provenance": []
    },
    "kernelspec": {
      "display_name": "base",
      "language": "python",
      "name": "python3"
    },
    "language_info": {
      "codemirror_mode": {
        "name": "ipython",
        "version": 3
      },
      "file_extension": ".py",
      "mimetype": "text/x-python",
      "name": "python",
      "nbconvert_exporter": "python",
      "pygments_lexer": "ipython3",
      "version": "3.12.7"
    },
    "toc": {
      "base_numbering": 1,
      "nav_menu": {},
      "number_sections": false,
      "sideBar": true,
      "skip_h1_title": false,
      "title_cell": "Table of Contents",
      "title_sidebar": "Contents",
      "toc_cell": false,
      "toc_position": {
        "height": "calc(100% - 180px)",
        "left": "10px",
        "top": "150px",
        "width": "254.39999389648438px"
      },
      "toc_section_display": true,
      "toc_window_display": false
    }
  },
  "nbformat": 4,
  "nbformat_minor": 0
}
